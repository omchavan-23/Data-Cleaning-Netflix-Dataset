{
 "cells": [
  {
   "cell_type": "code",
   "execution_count": 2,
   "id": "c0d812c1-ad40-4632-a7c2-ef5e6baf1ce3",
   "metadata": {},
   "outputs": [],
   "source": [
    "import pandas as pd\n",
    "import numpy as np\n",
    "import os"
   ]
  },
  {
   "cell_type": "code",
   "execution_count": 13,
   "id": "b38cdecf-b0bc-4ace-997f-1aa5631c5a32",
   "metadata": {},
   "outputs": [],
   "source": [
    "PROJECT_DIR=r\"C:\\Users\\OM CHAVAN\\OneDrive\\Desktop\\Netflix\"\n",
    "DIR=\"datasets\""
   ]
  },
  {
   "cell_type": "code",
   "execution_count": 179,
   "id": "8f337e5e-56ea-472d-a396-a0d8f1355f57",
   "metadata": {},
   "outputs": [],
   "source": [
    "def file_name(name):\n",
    "    df_name=f\"{name}.csv\"\n",
    "    file=os.path.join(PROJECT_DIR,DIR,df_name)\n",
    "    return pd.read_csv(file,encoding='latin-1')"
   ]
  },
  {
   "cell_type": "code",
   "execution_count": 180,
   "id": "e241d39e-fb8b-4a8e-89b7-1504ba06b5e3",
   "metadata": {},
   "outputs": [
    {
     "data": {
      "text/html": [
       "<div>\n",
       "<style scoped>\n",
       "    .dataframe tbody tr th:only-of-type {\n",
       "        vertical-align: middle;\n",
       "    }\n",
       "\n",
       "    .dataframe tbody tr th {\n",
       "        vertical-align: top;\n",
       "    }\n",
       "\n",
       "    .dataframe thead th {\n",
       "        text-align: right;\n",
       "    }\n",
       "</style>\n",
       "<table border=\"1\" class=\"dataframe\">\n",
       "  <thead>\n",
       "    <tr style=\"text-align: right;\">\n",
       "      <th></th>\n",
       "      <th>show_id</th>\n",
       "      <th>type</th>\n",
       "      <th>title</th>\n",
       "      <th>director</th>\n",
       "      <th>cast</th>\n",
       "      <th>country</th>\n",
       "      <th>date_added</th>\n",
       "      <th>release_year</th>\n",
       "      <th>rating</th>\n",
       "      <th>duration</th>\n",
       "      <th>...</th>\n",
       "      <th>Unnamed: 16</th>\n",
       "      <th>Unnamed: 17</th>\n",
       "      <th>Unnamed: 18</th>\n",
       "      <th>Unnamed: 19</th>\n",
       "      <th>Unnamed: 20</th>\n",
       "      <th>Unnamed: 21</th>\n",
       "      <th>Unnamed: 22</th>\n",
       "      <th>Unnamed: 23</th>\n",
       "      <th>Unnamed: 24</th>\n",
       "      <th>Unnamed: 25</th>\n",
       "    </tr>\n",
       "  </thead>\n",
       "  <tbody>\n",
       "    <tr>\n",
       "      <th>0</th>\n",
       "      <td>s1</td>\n",
       "      <td>Movie</td>\n",
       "      <td>Dick Johnson Is Dead</td>\n",
       "      <td>Kirsten Johnson</td>\n",
       "      <td>NaN</td>\n",
       "      <td>United States</td>\n",
       "      <td>September 25, 2021</td>\n",
       "      <td>2020</td>\n",
       "      <td>PG-13</td>\n",
       "      <td>90 min</td>\n",
       "      <td>...</td>\n",
       "      <td>NaN</td>\n",
       "      <td>NaN</td>\n",
       "      <td>NaN</td>\n",
       "      <td>NaN</td>\n",
       "      <td>NaN</td>\n",
       "      <td>NaN</td>\n",
       "      <td>NaN</td>\n",
       "      <td>NaN</td>\n",
       "      <td>NaN</td>\n",
       "      <td>NaN</td>\n",
       "    </tr>\n",
       "    <tr>\n",
       "      <th>1</th>\n",
       "      <td>s2</td>\n",
       "      <td>TV Show</td>\n",
       "      <td>Blood &amp; Water</td>\n",
       "      <td>NaN</td>\n",
       "      <td>Ama Qamata, Khosi Ngema, Gail Mabalane, Thaban...</td>\n",
       "      <td>South Africa</td>\n",
       "      <td>September 24, 2021</td>\n",
       "      <td>2021</td>\n",
       "      <td>TV-MA</td>\n",
       "      <td>2 Seasons</td>\n",
       "      <td>...</td>\n",
       "      <td>NaN</td>\n",
       "      <td>NaN</td>\n",
       "      <td>NaN</td>\n",
       "      <td>NaN</td>\n",
       "      <td>NaN</td>\n",
       "      <td>NaN</td>\n",
       "      <td>NaN</td>\n",
       "      <td>NaN</td>\n",
       "      <td>NaN</td>\n",
       "      <td>NaN</td>\n",
       "    </tr>\n",
       "    <tr>\n",
       "      <th>2</th>\n",
       "      <td>s3</td>\n",
       "      <td>TV Show</td>\n",
       "      <td>Ganglands</td>\n",
       "      <td>Julien Leclercq</td>\n",
       "      <td>Sami Bouajila, Tracy Gotoas, Samuel Jouy, Nabi...</td>\n",
       "      <td>NaN</td>\n",
       "      <td>September 24, 2021</td>\n",
       "      <td>2021</td>\n",
       "      <td>TV-MA</td>\n",
       "      <td>1 Season</td>\n",
       "      <td>...</td>\n",
       "      <td>NaN</td>\n",
       "      <td>NaN</td>\n",
       "      <td>NaN</td>\n",
       "      <td>NaN</td>\n",
       "      <td>NaN</td>\n",
       "      <td>NaN</td>\n",
       "      <td>NaN</td>\n",
       "      <td>NaN</td>\n",
       "      <td>NaN</td>\n",
       "      <td>NaN</td>\n",
       "    </tr>\n",
       "    <tr>\n",
       "      <th>3</th>\n",
       "      <td>s4</td>\n",
       "      <td>TV Show</td>\n",
       "      <td>Jailbirds New Orleans</td>\n",
       "      <td>NaN</td>\n",
       "      <td>NaN</td>\n",
       "      <td>NaN</td>\n",
       "      <td>September 24, 2021</td>\n",
       "      <td>2021</td>\n",
       "      <td>TV-MA</td>\n",
       "      <td>1 Season</td>\n",
       "      <td>...</td>\n",
       "      <td>NaN</td>\n",
       "      <td>NaN</td>\n",
       "      <td>NaN</td>\n",
       "      <td>NaN</td>\n",
       "      <td>NaN</td>\n",
       "      <td>NaN</td>\n",
       "      <td>NaN</td>\n",
       "      <td>NaN</td>\n",
       "      <td>NaN</td>\n",
       "      <td>NaN</td>\n",
       "    </tr>\n",
       "    <tr>\n",
       "      <th>4</th>\n",
       "      <td>s5</td>\n",
       "      <td>TV Show</td>\n",
       "      <td>Kota Factory</td>\n",
       "      <td>NaN</td>\n",
       "      <td>Mayur More, Jitendra Kumar, Ranjan Raj, Alam K...</td>\n",
       "      <td>India</td>\n",
       "      <td>September 24, 2021</td>\n",
       "      <td>2021</td>\n",
       "      <td>TV-MA</td>\n",
       "      <td>2 Seasons</td>\n",
       "      <td>...</td>\n",
       "      <td>NaN</td>\n",
       "      <td>NaN</td>\n",
       "      <td>NaN</td>\n",
       "      <td>NaN</td>\n",
       "      <td>NaN</td>\n",
       "      <td>NaN</td>\n",
       "      <td>NaN</td>\n",
       "      <td>NaN</td>\n",
       "      <td>NaN</td>\n",
       "      <td>NaN</td>\n",
       "    </tr>\n",
       "    <tr>\n",
       "      <th>...</th>\n",
       "      <td>...</td>\n",
       "      <td>...</td>\n",
       "      <td>...</td>\n",
       "      <td>...</td>\n",
       "      <td>...</td>\n",
       "      <td>...</td>\n",
       "      <td>...</td>\n",
       "      <td>...</td>\n",
       "      <td>...</td>\n",
       "      <td>...</td>\n",
       "      <td>...</td>\n",
       "      <td>...</td>\n",
       "      <td>...</td>\n",
       "      <td>...</td>\n",
       "      <td>...</td>\n",
       "      <td>...</td>\n",
       "      <td>...</td>\n",
       "      <td>...</td>\n",
       "      <td>...</td>\n",
       "      <td>...</td>\n",
       "      <td>...</td>\n",
       "    </tr>\n",
       "    <tr>\n",
       "      <th>8804</th>\n",
       "      <td>s8805</td>\n",
       "      <td>Movie</td>\n",
       "      <td>Zombieland</td>\n",
       "      <td>Ruben Fleischer</td>\n",
       "      <td>Jesse Eisenberg, Woody Harrelson, Emma Stone, ...</td>\n",
       "      <td>United States</td>\n",
       "      <td>November 1, 2019</td>\n",
       "      <td>2009</td>\n",
       "      <td>R</td>\n",
       "      <td>88 min</td>\n",
       "      <td>...</td>\n",
       "      <td>NaN</td>\n",
       "      <td>NaN</td>\n",
       "      <td>NaN</td>\n",
       "      <td>NaN</td>\n",
       "      <td>NaN</td>\n",
       "      <td>NaN</td>\n",
       "      <td>NaN</td>\n",
       "      <td>NaN</td>\n",
       "      <td>NaN</td>\n",
       "      <td>NaN</td>\n",
       "    </tr>\n",
       "    <tr>\n",
       "      <th>8805</th>\n",
       "      <td>s8806</td>\n",
       "      <td>Movie</td>\n",
       "      <td>Zoom</td>\n",
       "      <td>Peter Hewitt</td>\n",
       "      <td>Tim Allen, Courteney Cox, Chevy Chase, Kate Ma...</td>\n",
       "      <td>United States</td>\n",
       "      <td>January 11, 2020</td>\n",
       "      <td>2006</td>\n",
       "      <td>PG</td>\n",
       "      <td>88 min</td>\n",
       "      <td>...</td>\n",
       "      <td>NaN</td>\n",
       "      <td>NaN</td>\n",
       "      <td>NaN</td>\n",
       "      <td>NaN</td>\n",
       "      <td>NaN</td>\n",
       "      <td>NaN</td>\n",
       "      <td>NaN</td>\n",
       "      <td>NaN</td>\n",
       "      <td>NaN</td>\n",
       "      <td>NaN</td>\n",
       "    </tr>\n",
       "    <tr>\n",
       "      <th>8806</th>\n",
       "      <td>s8807</td>\n",
       "      <td>Movie</td>\n",
       "      <td>Zubaan</td>\n",
       "      <td>Mozez Singh</td>\n",
       "      <td>Vicky Kaushal, Sarah-Jane Dias, Raaghav Chanan...</td>\n",
       "      <td>India</td>\n",
       "      <td>March 2, 2019</td>\n",
       "      <td>2015</td>\n",
       "      <td>TV-14</td>\n",
       "      <td>111 min</td>\n",
       "      <td>...</td>\n",
       "      <td>NaN</td>\n",
       "      <td>NaN</td>\n",
       "      <td>NaN</td>\n",
       "      <td>NaN</td>\n",
       "      <td>NaN</td>\n",
       "      <td>NaN</td>\n",
       "      <td>NaN</td>\n",
       "      <td>NaN</td>\n",
       "      <td>NaN</td>\n",
       "      <td>NaN</td>\n",
       "    </tr>\n",
       "    <tr>\n",
       "      <th>8807</th>\n",
       "      <td>s8808</td>\n",
       "      <td>TV Show</td>\n",
       "      <td>Parasyte: The Grey</td>\n",
       "      <td>Yeon Sang-ho</td>\n",
       "      <td>Shin Hyun-been, Jeon Yeo-bin, Goo Kyo-hwan</td>\n",
       "      <td>South Korea</td>\n",
       "      <td>April 5, 2024</td>\n",
       "      <td>2024</td>\n",
       "      <td>TV-MA</td>\n",
       "      <td>1 Season</td>\n",
       "      <td>...</td>\n",
       "      <td>NaN</td>\n",
       "      <td>NaN</td>\n",
       "      <td>NaN</td>\n",
       "      <td>NaN</td>\n",
       "      <td>NaN</td>\n",
       "      <td>NaN</td>\n",
       "      <td>NaN</td>\n",
       "      <td>NaN</td>\n",
       "      <td>NaN</td>\n",
       "      <td>NaN</td>\n",
       "    </tr>\n",
       "    <tr>\n",
       "      <th>8808</th>\n",
       "      <td>s8809</td>\n",
       "      <td>Movie</td>\n",
       "      <td>Serena</td>\n",
       "      <td>Susanne Bier</td>\n",
       "      <td>Bradley Cooper, Jennifer Lawrence, Toby Jones,...</td>\n",
       "      <td>United States</td>\n",
       "      <td>April 5, 2024</td>\n",
       "      <td>2014</td>\n",
       "      <td>A</td>\n",
       "      <td>110 min</td>\n",
       "      <td>...</td>\n",
       "      <td>NaN</td>\n",
       "      <td>NaN</td>\n",
       "      <td>NaN</td>\n",
       "      <td>NaN</td>\n",
       "      <td>NaN</td>\n",
       "      <td>NaN</td>\n",
       "      <td>NaN</td>\n",
       "      <td>NaN</td>\n",
       "      <td>NaN</td>\n",
       "      <td>NaN</td>\n",
       "    </tr>\n",
       "  </tbody>\n",
       "</table>\n",
       "<p>8809 rows × 26 columns</p>\n",
       "</div>"
      ],
      "text/plain": [
       "     show_id     type                  title         director  \\\n",
       "0         s1    Movie   Dick Johnson Is Dead  Kirsten Johnson   \n",
       "1         s2  TV Show          Blood & Water              NaN   \n",
       "2         s3  TV Show              Ganglands  Julien Leclercq   \n",
       "3         s4  TV Show  Jailbirds New Orleans              NaN   \n",
       "4         s5  TV Show           Kota Factory              NaN   \n",
       "...      ...      ...                    ...              ...   \n",
       "8804   s8805    Movie             Zombieland  Ruben Fleischer   \n",
       "8805   s8806    Movie                   Zoom     Peter Hewitt   \n",
       "8806   s8807    Movie                 Zubaan      Mozez Singh   \n",
       "8807   s8808  TV Show     Parasyte: The Grey     Yeon Sang-ho   \n",
       "8808   s8809    Movie                 Serena     Susanne Bier   \n",
       "\n",
       "                                                   cast        country  \\\n",
       "0                                                   NaN  United States   \n",
       "1     Ama Qamata, Khosi Ngema, Gail Mabalane, Thaban...   South Africa   \n",
       "2     Sami Bouajila, Tracy Gotoas, Samuel Jouy, Nabi...            NaN   \n",
       "3                                                   NaN            NaN   \n",
       "4     Mayur More, Jitendra Kumar, Ranjan Raj, Alam K...          India   \n",
       "...                                                 ...            ...   \n",
       "8804  Jesse Eisenberg, Woody Harrelson, Emma Stone, ...  United States   \n",
       "8805  Tim Allen, Courteney Cox, Chevy Chase, Kate Ma...  United States   \n",
       "8806  Vicky Kaushal, Sarah-Jane Dias, Raaghav Chanan...          India   \n",
       "8807         Shin Hyun-been, Jeon Yeo-bin, Goo Kyo-hwan    South Korea   \n",
       "8808  Bradley Cooper, Jennifer Lawrence, Toby Jones,...  United States   \n",
       "\n",
       "              date_added  release_year rating   duration  ... Unnamed: 16  \\\n",
       "0     September 25, 2021          2020  PG-13     90 min  ...         NaN   \n",
       "1     September 24, 2021          2021  TV-MA  2 Seasons  ...         NaN   \n",
       "2     September 24, 2021          2021  TV-MA   1 Season  ...         NaN   \n",
       "3     September 24, 2021          2021  TV-MA   1 Season  ...         NaN   \n",
       "4     September 24, 2021          2021  TV-MA  2 Seasons  ...         NaN   \n",
       "...                  ...           ...    ...        ...  ...         ...   \n",
       "8804    November 1, 2019          2009      R     88 min  ...         NaN   \n",
       "8805    January 11, 2020          2006     PG     88 min  ...         NaN   \n",
       "8806       March 2, 2019          2015  TV-14    111 min  ...         NaN   \n",
       "8807       April 5, 2024          2024  TV-MA   1 Season  ...         NaN   \n",
       "8808       April 5, 2024          2014      A    110 min  ...         NaN   \n",
       "\n",
       "     Unnamed: 17  Unnamed: 18  Unnamed: 19  Unnamed: 20  Unnamed: 21  \\\n",
       "0            NaN          NaN          NaN          NaN          NaN   \n",
       "1            NaN          NaN          NaN          NaN          NaN   \n",
       "2            NaN          NaN          NaN          NaN          NaN   \n",
       "3            NaN          NaN          NaN          NaN          NaN   \n",
       "4            NaN          NaN          NaN          NaN          NaN   \n",
       "...          ...          ...          ...          ...          ...   \n",
       "8804         NaN          NaN          NaN          NaN          NaN   \n",
       "8805         NaN          NaN          NaN          NaN          NaN   \n",
       "8806         NaN          NaN          NaN          NaN          NaN   \n",
       "8807         NaN          NaN          NaN          NaN          NaN   \n",
       "8808         NaN          NaN          NaN          NaN          NaN   \n",
       "\n",
       "      Unnamed: 22  Unnamed: 23  Unnamed: 24  Unnamed: 25  \n",
       "0             NaN          NaN          NaN          NaN  \n",
       "1             NaN          NaN          NaN          NaN  \n",
       "2             NaN          NaN          NaN          NaN  \n",
       "3             NaN          NaN          NaN          NaN  \n",
       "4             NaN          NaN          NaN          NaN  \n",
       "...           ...          ...          ...          ...  \n",
       "8804          NaN          NaN          NaN          NaN  \n",
       "8805          NaN          NaN          NaN          NaN  \n",
       "8806          NaN          NaN          NaN          NaN  \n",
       "8807          NaN          NaN          NaN          NaN  \n",
       "8808          NaN          NaN          NaN          NaN  \n",
       "\n",
       "[8809 rows x 26 columns]"
      ]
     },
     "execution_count": 180,
     "metadata": {},
     "output_type": "execute_result"
    }
   ],
   "source": [
    "netflix=file_name(\"netflix_titles\")\n",
    "netflix"
   ]
  },
  {
   "cell_type": "code",
   "execution_count": 181,
   "id": "c3090e00-c39f-4ef9-8de6-410f5975a3fc",
   "metadata": {},
   "outputs": [
    {
     "name": "stdout",
     "output_type": "stream",
     "text": [
      "<class 'pandas.core.frame.DataFrame'>\n",
      "RangeIndex: 8809 entries, 0 to 8808\n",
      "Data columns (total 26 columns):\n",
      " #   Column        Non-Null Count  Dtype  \n",
      "---  ------        --------------  -----  \n",
      " 0   show_id       8809 non-null   object \n",
      " 1   type          8809 non-null   object \n",
      " 2   title         8809 non-null   object \n",
      " 3   director      6175 non-null   object \n",
      " 4   cast          7984 non-null   object \n",
      " 5   country       7978 non-null   object \n",
      " 6   date_added    8799 non-null   object \n",
      " 7   release_year  8809 non-null   int64  \n",
      " 8   rating        8805 non-null   object \n",
      " 9   duration      8806 non-null   object \n",
      " 10  listed_in     8809 non-null   object \n",
      " 11  description   8809 non-null   object \n",
      " 12  Unnamed: 12   0 non-null      float64\n",
      " 13  Unnamed: 13   0 non-null      float64\n",
      " 14  Unnamed: 14   0 non-null      float64\n",
      " 15  Unnamed: 15   0 non-null      float64\n",
      " 16  Unnamed: 16   0 non-null      float64\n",
      " 17  Unnamed: 17   0 non-null      float64\n",
      " 18  Unnamed: 18   0 non-null      float64\n",
      " 19  Unnamed: 19   0 non-null      float64\n",
      " 20  Unnamed: 20   0 non-null      float64\n",
      " 21  Unnamed: 21   0 non-null      float64\n",
      " 22  Unnamed: 22   0 non-null      float64\n",
      " 23  Unnamed: 23   0 non-null      float64\n",
      " 24  Unnamed: 24   0 non-null      float64\n",
      " 25  Unnamed: 25   0 non-null      float64\n",
      "dtypes: float64(14), int64(1), object(11)\n",
      "memory usage: 1.7+ MB\n"
     ]
    }
   ],
   "source": [
    "netflix.info()"
   ]
  },
  {
   "cell_type": "raw",
   "id": "d5c83a4a-ca97-4099-a66e-07a3d7f6767a",
   "metadata": {},
   "source": [
    "-data has 8809 entries , 26 features\n",
    "-has missing values in columns(director,cast,country,date_added,rating,duration)\n",
    "-column 12-25 are unnamed and has all null values\n",
    "-some columns are unappropriate"
   ]
  },
  {
   "cell_type": "markdown",
   "id": "c787582e-41d8-4efa-8ef6-9e9cf42eaa7b",
   "metadata": {},
   "source": [
    "# PRELIMINARY ANALYSIS"
   ]
  },
  {
   "cell_type": "markdown",
   "id": "d77d1790-d003-4492-b9b3-841fc91e0db8",
   "metadata": {},
   "source": [
    "# a.check data_types"
   ]
  },
  {
   "cell_type": "code",
   "execution_count": 183,
   "id": "1336c2c7-1c29-456f-825b-c862a3cf891c",
   "metadata": {},
   "outputs": [
    {
     "data": {
      "text/html": [
       "<div>\n",
       "<style scoped>\n",
       "    .dataframe tbody tr th:only-of-type {\n",
       "        vertical-align: middle;\n",
       "    }\n",
       "\n",
       "    .dataframe tbody tr th {\n",
       "        vertical-align: top;\n",
       "    }\n",
       "\n",
       "    .dataframe thead th {\n",
       "        text-align: right;\n",
       "    }\n",
       "</style>\n",
       "<table border=\"1\" class=\"dataframe\">\n",
       "  <thead>\n",
       "    <tr style=\"text-align: right;\">\n",
       "      <th></th>\n",
       "      <th>show_id</th>\n",
       "      <th>type</th>\n",
       "      <th>title</th>\n",
       "      <th>director</th>\n",
       "      <th>cast</th>\n",
       "      <th>country</th>\n",
       "      <th>date_added</th>\n",
       "      <th>release_year</th>\n",
       "      <th>rating</th>\n",
       "      <th>duration</th>\n",
       "      <th>...</th>\n",
       "      <th>Unnamed: 16</th>\n",
       "      <th>Unnamed: 17</th>\n",
       "      <th>Unnamed: 18</th>\n",
       "      <th>Unnamed: 19</th>\n",
       "      <th>Unnamed: 20</th>\n",
       "      <th>Unnamed: 21</th>\n",
       "      <th>Unnamed: 22</th>\n",
       "      <th>Unnamed: 23</th>\n",
       "      <th>Unnamed: 24</th>\n",
       "      <th>Unnamed: 25</th>\n",
       "    </tr>\n",
       "  </thead>\n",
       "  <tbody>\n",
       "    <tr>\n",
       "      <th>0</th>\n",
       "      <td>s1</td>\n",
       "      <td>Movie</td>\n",
       "      <td>Dick Johnson Is Dead</td>\n",
       "      <td>Kirsten Johnson</td>\n",
       "      <td>NaN</td>\n",
       "      <td>United States</td>\n",
       "      <td>September 25, 2021</td>\n",
       "      <td>2020</td>\n",
       "      <td>PG-13</td>\n",
       "      <td>90 min</td>\n",
       "      <td>...</td>\n",
       "      <td>NaN</td>\n",
       "      <td>NaN</td>\n",
       "      <td>NaN</td>\n",
       "      <td>NaN</td>\n",
       "      <td>NaN</td>\n",
       "      <td>NaN</td>\n",
       "      <td>NaN</td>\n",
       "      <td>NaN</td>\n",
       "      <td>NaN</td>\n",
       "      <td>NaN</td>\n",
       "    </tr>\n",
       "    <tr>\n",
       "      <th>1</th>\n",
       "      <td>s2</td>\n",
       "      <td>TV Show</td>\n",
       "      <td>Blood &amp; Water</td>\n",
       "      <td>NaN</td>\n",
       "      <td>Ama Qamata, Khosi Ngema, Gail Mabalane, Thaban...</td>\n",
       "      <td>South Africa</td>\n",
       "      <td>September 24, 2021</td>\n",
       "      <td>2021</td>\n",
       "      <td>TV-MA</td>\n",
       "      <td>2 Seasons</td>\n",
       "      <td>...</td>\n",
       "      <td>NaN</td>\n",
       "      <td>NaN</td>\n",
       "      <td>NaN</td>\n",
       "      <td>NaN</td>\n",
       "      <td>NaN</td>\n",
       "      <td>NaN</td>\n",
       "      <td>NaN</td>\n",
       "      <td>NaN</td>\n",
       "      <td>NaN</td>\n",
       "      <td>NaN</td>\n",
       "    </tr>\n",
       "  </tbody>\n",
       "</table>\n",
       "<p>2 rows × 26 columns</p>\n",
       "</div>"
      ],
      "text/plain": [
       "  show_id     type                 title         director  \\\n",
       "0      s1    Movie  Dick Johnson Is Dead  Kirsten Johnson   \n",
       "1      s2  TV Show         Blood & Water              NaN   \n",
       "\n",
       "                                                cast        country  \\\n",
       "0                                                NaN  United States   \n",
       "1  Ama Qamata, Khosi Ngema, Gail Mabalane, Thaban...   South Africa   \n",
       "\n",
       "           date_added  release_year rating   duration  ... Unnamed: 16  \\\n",
       "0  September 25, 2021          2020  PG-13     90 min  ...         NaN   \n",
       "1  September 24, 2021          2021  TV-MA  2 Seasons  ...         NaN   \n",
       "\n",
       "  Unnamed: 17  Unnamed: 18  Unnamed: 19  Unnamed: 20  Unnamed: 21  \\\n",
       "0         NaN          NaN          NaN          NaN          NaN   \n",
       "1         NaN          NaN          NaN          NaN          NaN   \n",
       "\n",
       "   Unnamed: 22  Unnamed: 23  Unnamed: 24  Unnamed: 25  \n",
       "0          NaN          NaN          NaN          NaN  \n",
       "1          NaN          NaN          NaN          NaN  \n",
       "\n",
       "[2 rows x 26 columns]"
      ]
     },
     "execution_count": 183,
     "metadata": {},
     "output_type": "execute_result"
    }
   ],
   "source": [
    "netflix.head(2)"
   ]
  },
  {
   "cell_type": "code",
   "execution_count": 184,
   "id": "3ec2637a-2274-4d61-a905-7056132ffb97",
   "metadata": {},
   "outputs": [
    {
     "data": {
      "text/plain": [
       "show_id          object\n",
       "type             object\n",
       "title            object\n",
       "director         object\n",
       "cast             object\n",
       "country          object\n",
       "date_added       object\n",
       "release_year      int64\n",
       "rating           object\n",
       "duration         object\n",
       "listed_in        object\n",
       "description      object\n",
       "Unnamed: 12     float64\n",
       "Unnamed: 13     float64\n",
       "Unnamed: 14     float64\n",
       "Unnamed: 15     float64\n",
       "Unnamed: 16     float64\n",
       "Unnamed: 17     float64\n",
       "Unnamed: 18     float64\n",
       "Unnamed: 19     float64\n",
       "Unnamed: 20     float64\n",
       "Unnamed: 21     float64\n",
       "Unnamed: 22     float64\n",
       "Unnamed: 23     float64\n",
       "Unnamed: 24     float64\n",
       "Unnamed: 25     float64\n",
       "dtype: object"
      ]
     },
     "execution_count": 184,
     "metadata": {},
     "output_type": "execute_result"
    }
   ],
   "source": [
    "netflix.dtypes"
   ]
  },
  {
   "cell_type": "code",
   "execution_count": 185,
   "id": "64faba6e-7566-44fe-a0dc-ab28bf470ed3",
   "metadata": {},
   "outputs": [
    {
     "data": {
      "text/plain": [
       "'s8801'"
      ]
     },
     "execution_count": 185,
     "metadata": {},
     "output_type": "execute_result"
    }
   ],
   "source": [
    "netflix.show_id.iloc[8800]"
   ]
  },
  {
   "cell_type": "code",
   "execution_count": 186,
   "id": "15694ca4-679b-48fe-bbd6-83fee652c15d",
   "metadata": {},
   "outputs": [
    {
     "data": {
      "text/plain": [
       "'August 27, 2021'"
      ]
     },
     "execution_count": 186,
     "metadata": {},
     "output_type": "execute_result"
    }
   ],
   "source": [
    "netflix.date_added.iloc[200]"
   ]
  },
  {
   "cell_type": "code",
   "execution_count": 187,
   "id": "d2ffa354-5373-4e20-bd2a-d0f87c6848aa",
   "metadata": {},
   "outputs": [
    {
     "data": {
      "text/plain": [
       "'PG-13'"
      ]
     },
     "execution_count": 187,
     "metadata": {},
     "output_type": "execute_result"
    }
   ],
   "source": [
    "netflix.rating.iloc[27]"
   ]
  },
  {
   "cell_type": "code",
   "execution_count": 188,
   "id": "3b255d87-c004-49da-9fbf-b9c126ff4332",
   "metadata": {},
   "outputs": [
    {
     "data": {
      "text/plain": [
       "\"A woman adjusting to life after a loss contends with a feisty bird that's taken over her garden â\\x80\\x94 and a husband who's struggling to find a way forward.\""
      ]
     },
     "execution_count": 188,
     "metadata": {},
     "output_type": "execute_result"
    }
   ],
   "source": [
    "netflix.description.iloc[9]"
   ]
  },
  {
   "cell_type": "code",
   "execution_count": 189,
   "id": "5d08123b-ab41-4464-88d7-db15e55aa52a",
   "metadata": {},
   "outputs": [
    {
     "data": {
      "text/plain": [
       "'90 min'"
      ]
     },
     "execution_count": 189,
     "metadata": {},
     "output_type": "execute_result"
    }
   ],
   "source": [
    "netflix.duration.iloc[0]"
   ]
  },
  {
   "cell_type": "markdown",
   "id": "a077b7c5-51bd-44cb-b441-3cc9026d8a91",
   "metadata": {},
   "source": [
    "# b. Check for Duplicates"
   ]
  },
  {
   "cell_type": "code",
   "execution_count": 190,
   "id": "5daac66e-d513-4e70-9623-235c677b698c",
   "metadata": {},
   "outputs": [
    {
     "data": {
      "text/plain": [
       "0"
      ]
     },
     "execution_count": 190,
     "metadata": {},
     "output_type": "execute_result"
    }
   ],
   "source": [
    "netflix.duplicated().sum()"
   ]
  },
  {
   "cell_type": "markdown",
   "id": "b84b51c3-0d3d-4d75-bd68-a953cc951d19",
   "metadata": {},
   "source": [
    "# c. Observations"
   ]
  },
  {
   "cell_type": "raw",
   "id": "71f57683-a652-4c8e-9d12-4a05e4d59a0c",
   "metadata": {},
   "source": [
    "- \"show_id\",\"duration\" is mixed,it should be numeric\n",
    "- \"date_added\" is mixed it should be datetime\n",
    "- didn't understand the \"rating\" column\n",
    "- \"Unnamed: 12\"-\"Unnamed: 25\" should be removed\n",
    "- there is 0 duplicates in dataset"
   ]
  },
  {
   "cell_type": "markdown",
   "id": "72c13d51-8b43-494f-bcb6-fbd1d5824923",
   "metadata": {},
   "source": [
    "# Detailed_Analysis"
   ]
  },
  {
   "cell_type": "code",
   "execution_count": 191,
   "id": "b6a9db71-71f3-4be1-bc10-6ae6053df639",
   "metadata": {},
   "outputs": [],
   "source": [
    "# show_id"
   ]
  },
  {
   "cell_type": "code",
   "execution_count": 192,
   "id": "c9edefc1-9e19-4bdf-9f11-07964e555c50",
   "metadata": {},
   "outputs": [
    {
     "data": {
      "text/plain": [
       "0          s1\n",
       "1          s2\n",
       "2          s3\n",
       "3          s4\n",
       "4          s5\n",
       "        ...  \n",
       "8804    s8805\n",
       "8805    s8806\n",
       "8806    s8807\n",
       "8807    s8808\n",
       "8808    s8809\n",
       "Name: show_id, Length: 8809, dtype: object"
      ]
     },
     "execution_count": 192,
     "metadata": {},
     "output_type": "execute_result"
    }
   ],
   "source": [
    "netflix.show_id"
   ]
  },
  {
   "cell_type": "code",
   "execution_count": 193,
   "id": "a0183dd5-e10b-4cbe-a2d6-1cf16dd2482e",
   "metadata": {},
   "outputs": [
    {
     "data": {
      "text/plain": [
       "8809"
      ]
     },
     "execution_count": 193,
     "metadata": {},
     "output_type": "execute_result"
    }
   ],
   "source": [
    "netflix.show_id.unique().size"
   ]
  },
  {
   "cell_type": "code",
   "execution_count": 194,
   "id": "79cb8214-5330-42da-a72f-be6e21fd1b7c",
   "metadata": {},
   "outputs": [
    {
     "data": {
      "text/plain": [
       "array(['1', '2', '3', ..., '8807', '8808', '8809'], dtype=object)"
      ]
     },
     "execution_count": 194,
     "metadata": {},
     "output_type": "execute_result"
    }
   ],
   "source": [
    "(\n",
    "    netflix\n",
    "    .show_id\n",
    "    .str.replace(\"s\",\"\")\n",
    "    .unique()\n",
    ")"
   ]
  },
  {
   "cell_type": "code",
   "execution_count": null,
   "id": "32cdb9d8-72bf-4a3c-a54f-105492bac47a",
   "metadata": {},
   "outputs": [],
   "source": [
    "# type"
   ]
  },
  {
   "cell_type": "code",
   "execution_count": 233,
   "id": "da4ee6a1-903a-49f9-84cd-34889a2cabaa",
   "metadata": {},
   "outputs": [
    {
     "data": {
      "text/plain": [
       "array(['Movie', 'TV Show'], dtype=object)"
      ]
     },
     "execution_count": 233,
     "metadata": {},
     "output_type": "execute_result"
    }
   ],
   "source": [
    "netflix.type.unique()"
   ]
  },
  {
   "cell_type": "code",
   "execution_count": 234,
   "id": "90e7c2d3-b55c-48a6-86c5-3aed4f2571a0",
   "metadata": {},
   "outputs": [],
   "source": [
    "# title"
   ]
  },
  {
   "cell_type": "code",
   "execution_count": 237,
   "id": "65c70fe0-0545-4a90-a8ac-45410df785d6",
   "metadata": {},
   "outputs": [
    {
     "data": {
      "text/plain": [
       "0        Dick Johnson Is Dead\n",
       "1               Blood & Water\n",
       "2                   Ganglands\n",
       "3       Jailbirds New Orleans\n",
       "4                Kota Factory\n",
       "                ...          \n",
       "8804               Zombieland\n",
       "8805                     Zoom\n",
       "8806                   Zubaan\n",
       "8807       Parasyte: The Grey\n",
       "8808                   Serena\n",
       "Name: title, Length: 8809, dtype: object"
      ]
     },
     "execution_count": 237,
     "metadata": {},
     "output_type": "execute_result"
    }
   ],
   "source": [
    "netflix.title"
   ]
  },
  {
   "cell_type": "code",
   "execution_count": 238,
   "id": "76201f58-892e-42b9-b37e-49b6429f09c7",
   "metadata": {},
   "outputs": [],
   "source": [
    "#director"
   ]
  },
  {
   "cell_type": "code",
   "execution_count": 240,
   "id": "3448e8f0-b587-464c-97c2-810deadb2a16",
   "metadata": {},
   "outputs": [
    {
     "data": {
      "text/plain": [
       "array(['Kirsten Johnson', nan, 'Julien Leclercq', ..., 'Peter Hewitt',\n",
       "       'Mozez Singh', 'Yeon Sang-ho'], dtype=object)"
      ]
     },
     "execution_count": 240,
     "metadata": {},
     "output_type": "execute_result"
    }
   ],
   "source": [
    "netflix.director.unique()"
   ]
  },
  {
   "cell_type": "code",
   "execution_count": 243,
   "id": "84b718fc-1656-4010-86ca-c51514fbeb83",
   "metadata": {},
   "outputs": [],
   "source": [
    "#cast"
   ]
  },
  {
   "cell_type": "code",
   "execution_count": 247,
   "id": "c372869c-25c3-45e6-bdfd-c48a94ffe36d",
   "metadata": {},
   "outputs": [
    {
     "data": {
      "text/plain": [
       "0                                                     NaN\n",
       "1       Ama Qamata, Khosi Ngema, Gail Mabalane, Thaban...\n",
       "2       Sami Bouajila, Tracy Gotoas, Samuel Jouy, Nabi...\n",
       "3                                                     NaN\n",
       "4       Mayur More, Jitendra Kumar, Ranjan Raj, Alam K...\n",
       "                              ...                        \n",
       "8804    Jesse Eisenberg, Woody Harrelson, Emma Stone, ...\n",
       "8805    Tim Allen, Courteney Cox, Chevy Chase, Kate Ma...\n",
       "8806    Vicky Kaushal, Sarah-Jane Dias, Raaghav Chanan...\n",
       "8807           Shin Hyun-been, Jeon Yeo-bin, Goo Kyo-hwan\n",
       "8808    Bradley Cooper, Jennifer Lawrence, Toby Jones,...\n",
       "Name: cast, Length: 8809, dtype: object"
      ]
     },
     "execution_count": 247,
     "metadata": {},
     "output_type": "execute_result"
    }
   ],
   "source": [
    "netflix.cast"
   ]
  },
  {
   "cell_type": "code",
   "execution_count": 195,
   "id": "060e528f-0e13-4563-9076-681127d0cd0c",
   "metadata": {},
   "outputs": [],
   "source": [
    "# date_added"
   ]
  },
  {
   "cell_type": "code",
   "execution_count": 196,
   "id": "8fdb2362-530f-464c-b2a1-1aedf84b1462",
   "metadata": {},
   "outputs": [
    {
     "data": {
      "text/plain": [
       "0       September 25, 2021\n",
       "1       September 24, 2021\n",
       "2       September 24, 2021\n",
       "3       September 24, 2021\n",
       "4       September 24, 2021\n",
       "               ...        \n",
       "8804      November 1, 2019\n",
       "8805      January 11, 2020\n",
       "8806         March 2, 2019\n",
       "8807         April 5, 2024\n",
       "8808         April 5, 2024\n",
       "Name: date_added, Length: 8809, dtype: object"
      ]
     },
     "execution_count": 196,
     "metadata": {},
     "output_type": "execute_result"
    }
   ],
   "source": [
    "netflix.date_added"
   ]
  },
  {
   "cell_type": "code",
   "execution_count": 197,
   "id": "33ea5230-0f49-45af-8c8e-6816734122dc",
   "metadata": {},
   "outputs": [
    {
     "data": {
      "text/plain": [
       "'September 24, 2021'"
      ]
     },
     "execution_count": 197,
     "metadata": {},
     "output_type": "execute_result"
    }
   ],
   "source": [
    "(\n",
    "    netflix\n",
    "    .date_added\n",
    "    .loc[1]\n",
    ")"
   ]
  },
  {
   "cell_type": "code",
   "execution_count": 224,
   "id": "ecf9eb76-0bdc-471b-b95c-b66511db6256",
   "metadata": {},
   "outputs": [],
   "source": [
    "# netflix.date_added[1442]"
   ]
  },
  {
   "cell_type": "code",
   "execution_count": 223,
   "id": "5ce33a31-b4c6-47bc-9c12-1bd0c796df83",
   "metadata": {},
   "outputs": [
    {
     "data": {
      "text/plain": [
       "0      2021-09-25\n",
       "1      2021-09-24\n",
       "2      2021-09-24\n",
       "3      2021-09-24\n",
       "4      2021-09-24\n",
       "          ...    \n",
       "8804   2019-11-01\n",
       "8805   2020-01-11\n",
       "8806   2019-03-02\n",
       "8807   2024-04-05\n",
       "8808   2024-04-05\n",
       "Name: date_added, Length: 8809, dtype: datetime64[ns]"
      ]
     },
     "execution_count": 223,
     "metadata": {},
     "output_type": "execute_result"
    }
   ],
   "source": [
    "# netflix.date_added\n",
    "pd.to_datetime(netflix['date_added'].str.strip(),dayfirst=True)"
   ]
  },
  {
   "cell_type": "code",
   "execution_count": 248,
   "id": "85912f9a-af37-4c67-849b-a3f8c61be940",
   "metadata": {},
   "outputs": [],
   "source": [
    "# release_year"
   ]
  },
  {
   "cell_type": "code",
   "execution_count": 251,
   "id": "8c913eb9-4d69-4778-8090-be38ef07491d",
   "metadata": {},
   "outputs": [
    {
     "data": {
      "text/plain": [
       "0       2020\n",
       "1       2021\n",
       "2       2021\n",
       "3       2021\n",
       "4       2021\n",
       "        ... \n",
       "8804    2009\n",
       "8805    2006\n",
       "8806    2015\n",
       "8807    2024\n",
       "8808    2014\n",
       "Name: release_year, Length: 8809, dtype: int64"
      ]
     },
     "execution_count": 251,
     "metadata": {},
     "output_type": "execute_result"
    }
   ],
   "source": [
    "netflix.release_year"
   ]
  },
  {
   "cell_type": "code",
   "execution_count": null,
   "id": "9c59319a-1445-4aea-8a39-c32d05daa8e6",
   "metadata": {},
   "outputs": [],
   "source": [
    "# rating"
   ]
  },
  {
   "cell_type": "code",
   "execution_count": 264,
   "id": "bc3de932-2be7-4f3a-9138-6970456aed99",
   "metadata": {},
   "outputs": [
    {
     "data": {
      "text/plain": [
       "array(['PG-13', 'TV-MA', 'PG', 'TV-14', 'TV-PG', 'TV-Y', 'TV-Y7', 'R',\n",
       "       'TV-G', 'G', 'NC-17', '74 min', '84 min', '66 min', 'NR', nan,\n",
       "       'TV-Y7-FV', 'UR', 'A'], dtype=object)"
      ]
     },
     "execution_count": 264,
     "metadata": {},
     "output_type": "execute_result"
    }
   ],
   "source": [
    "netflix.rating.unique()"
   ]
  },
  {
   "cell_type": "code",
   "execution_count": 277,
   "id": "edc5b842-1f07-4ec1-bf3f-159cd581ea2e",
   "metadata": {},
   "outputs": [
    {
     "data": {
      "text/plain": [
       "5541    74 min\n",
       "Name: rating, dtype: object"
      ]
     },
     "execution_count": 277,
     "metadata": {},
     "output_type": "execute_result"
    }
   ],
   "source": [
    "(\n",
    "    netflix\n",
    "    .rating\n",
    "    .loc[lambda ser :ser.str.contains('74 min',na=False)]\n",
    ")"
   ]
  },
  {
   "cell_type": "code",
   "execution_count": 279,
   "id": "12a63064-d5c8-41c5-81e7-d7f70d89ffe0",
   "metadata": {},
   "outputs": [
    {
     "data": {
      "text/plain": [
       "5794    84 min\n",
       "Name: rating, dtype: object"
      ]
     },
     "execution_count": 279,
     "metadata": {},
     "output_type": "execute_result"
    }
   ],
   "source": [
    "(\n",
    "    netflix\n",
    "    .rating\n",
    "    .loc[lambda ser :ser.str.contains('84 min',na=False)]\n",
    ")"
   ]
  },
  {
   "cell_type": "code",
   "execution_count": 280,
   "id": "68655f5e-3729-419b-9d06-9e7c4b71190a",
   "metadata": {},
   "outputs": [
    {
     "data": {
      "text/plain": [
       "5813    66 min\n",
       "Name: rating, dtype: object"
      ]
     },
     "execution_count": 280,
     "metadata": {},
     "output_type": "execute_result"
    }
   ],
   "source": [
    "(\n",
    "    netflix\n",
    "    .rating\n",
    "    .loc[lambda ser :ser.str.contains('66 min',na=False)]\n",
    ")"
   ]
  },
  {
   "cell_type": "code",
   "execution_count": 282,
   "id": "a07752b4-b274-47f1-bd06-7b1d0f0d69e2",
   "metadata": {},
   "outputs": [
    {
     "data": {
      "text/html": [
       "<div>\n",
       "<style scoped>\n",
       "    .dataframe tbody tr th:only-of-type {\n",
       "        vertical-align: middle;\n",
       "    }\n",
       "\n",
       "    .dataframe tbody tr th {\n",
       "        vertical-align: top;\n",
       "    }\n",
       "\n",
       "    .dataframe thead th {\n",
       "        text-align: right;\n",
       "    }\n",
       "</style>\n",
       "<table border=\"1\" class=\"dataframe\">\n",
       "  <thead>\n",
       "    <tr style=\"text-align: right;\">\n",
       "      <th></th>\n",
       "      <th>show_id</th>\n",
       "      <th>type</th>\n",
       "      <th>title</th>\n",
       "      <th>director</th>\n",
       "      <th>cast</th>\n",
       "      <th>country</th>\n",
       "      <th>date_added</th>\n",
       "      <th>release_year</th>\n",
       "      <th>rating</th>\n",
       "      <th>duration</th>\n",
       "      <th>...</th>\n",
       "      <th>Unnamed: 16</th>\n",
       "      <th>Unnamed: 17</th>\n",
       "      <th>Unnamed: 18</th>\n",
       "      <th>Unnamed: 19</th>\n",
       "      <th>Unnamed: 20</th>\n",
       "      <th>Unnamed: 21</th>\n",
       "      <th>Unnamed: 22</th>\n",
       "      <th>Unnamed: 23</th>\n",
       "      <th>Unnamed: 24</th>\n",
       "      <th>Unnamed: 25</th>\n",
       "    </tr>\n",
       "  </thead>\n",
       "  <tbody>\n",
       "    <tr>\n",
       "      <th>5541</th>\n",
       "      <td>s5542</td>\n",
       "      <td>Movie</td>\n",
       "      <td>Louis C.K. 2017</td>\n",
       "      <td>Louis C.K.</td>\n",
       "      <td>Louis C.K.</td>\n",
       "      <td>United States</td>\n",
       "      <td>April 4, 2017</td>\n",
       "      <td>2017</td>\n",
       "      <td>74 min</td>\n",
       "      <td>NaN</td>\n",
       "      <td>...</td>\n",
       "      <td>NaN</td>\n",
       "      <td>NaN</td>\n",
       "      <td>NaN</td>\n",
       "      <td>NaN</td>\n",
       "      <td>NaN</td>\n",
       "      <td>NaN</td>\n",
       "      <td>NaN</td>\n",
       "      <td>NaN</td>\n",
       "      <td>NaN</td>\n",
       "      <td>NaN</td>\n",
       "    </tr>\n",
       "    <tr>\n",
       "      <th>5813</th>\n",
       "      <td>s5814</td>\n",
       "      <td>Movie</td>\n",
       "      <td>Louis C.K.: Live at the Comedy Store</td>\n",
       "      <td>Louis C.K.</td>\n",
       "      <td>Louis C.K.</td>\n",
       "      <td>United States</td>\n",
       "      <td>August 15, 2016</td>\n",
       "      <td>2015</td>\n",
       "      <td>66 min</td>\n",
       "      <td>NaN</td>\n",
       "      <td>...</td>\n",
       "      <td>NaN</td>\n",
       "      <td>NaN</td>\n",
       "      <td>NaN</td>\n",
       "      <td>NaN</td>\n",
       "      <td>NaN</td>\n",
       "      <td>NaN</td>\n",
       "      <td>NaN</td>\n",
       "      <td>NaN</td>\n",
       "      <td>NaN</td>\n",
       "      <td>NaN</td>\n",
       "    </tr>\n",
       "    <tr>\n",
       "      <th>5794</th>\n",
       "      <td>s5795</td>\n",
       "      <td>Movie</td>\n",
       "      <td>Louis C.K.: Hilarious</td>\n",
       "      <td>Louis C.K.</td>\n",
       "      <td>Louis C.K.</td>\n",
       "      <td>United States</td>\n",
       "      <td>September 16, 2016</td>\n",
       "      <td>2010</td>\n",
       "      <td>84 min</td>\n",
       "      <td>NaN</td>\n",
       "      <td>...</td>\n",
       "      <td>NaN</td>\n",
       "      <td>NaN</td>\n",
       "      <td>NaN</td>\n",
       "      <td>NaN</td>\n",
       "      <td>NaN</td>\n",
       "      <td>NaN</td>\n",
       "      <td>NaN</td>\n",
       "      <td>NaN</td>\n",
       "      <td>NaN</td>\n",
       "      <td>NaN</td>\n",
       "    </tr>\n",
       "  </tbody>\n",
       "</table>\n",
       "<p>3 rows × 26 columns</p>\n",
       "</div>"
      ],
      "text/plain": [
       "     show_id   type                                 title    director  \\\n",
       "5541   s5542  Movie                       Louis C.K. 2017  Louis C.K.   \n",
       "5813   s5814  Movie  Louis C.K.: Live at the Comedy Store  Louis C.K.   \n",
       "5794   s5795  Movie                 Louis C.K.: Hilarious  Louis C.K.   \n",
       "\n",
       "            cast        country          date_added  release_year  rating  \\\n",
       "5541  Louis C.K.  United States       April 4, 2017          2017  74 min   \n",
       "5813  Louis C.K.  United States     August 15, 2016          2015  66 min   \n",
       "5794  Louis C.K.  United States  September 16, 2016          2010  84 min   \n",
       "\n",
       "     duration  ... Unnamed: 16 Unnamed: 17  Unnamed: 18  Unnamed: 19  \\\n",
       "5541      NaN  ...         NaN         NaN          NaN          NaN   \n",
       "5813      NaN  ...         NaN         NaN          NaN          NaN   \n",
       "5794      NaN  ...         NaN         NaN          NaN          NaN   \n",
       "\n",
       "      Unnamed: 20  Unnamed: 21  Unnamed: 22  Unnamed: 23  Unnamed: 24  \\\n",
       "5541          NaN          NaN          NaN          NaN          NaN   \n",
       "5813          NaN          NaN          NaN          NaN          NaN   \n",
       "5794          NaN          NaN          NaN          NaN          NaN   \n",
       "\n",
       "      Unnamed: 25  \n",
       "5541          NaN  \n",
       "5813          NaN  \n",
       "5794          NaN  \n",
       "\n",
       "[3 rows x 26 columns]"
      ]
     },
     "execution_count": 282,
     "metadata": {},
     "output_type": "execute_result"
    }
   ],
   "source": [
    "netflix.iloc[[5541,5813,5794]]"
   ]
  },
  {
   "cell_type": "code",
   "execution_count": 229,
   "id": "40b5b4ad-4e65-44f1-bb0b-a03fee9b5e16",
   "metadata": {},
   "outputs": [],
   "source": [
    "#duration"
   ]
  },
  {
   "cell_type": "code",
   "execution_count": 298,
   "id": "523a8237-bb70-4920-b198-8c17c5de020a",
   "metadata": {},
   "outputs": [
    {
     "data": {
      "text/plain": [
       "0          90 min\n",
       "1       2 Seasons\n",
       "2        1 Season\n",
       "3        1 Season\n",
       "4       2 Seasons\n",
       "          ...    \n",
       "8804       88 min\n",
       "8805       88 min\n",
       "8806      111 min\n",
       "8807     1 Season\n",
       "8808      110 min\n",
       "Name: duration, Length: 8809, dtype: object"
      ]
     },
     "execution_count": 298,
     "metadata": {},
     "output_type": "execute_result"
    }
   ],
   "source": [
    "netflix.duration"
   ]
  },
  {
   "cell_type": "raw",
   "id": "0d650da3-37d8-45a7-9731-c6ae6b707588",
   "metadata": {},
   "source": [
    "- index [5541,5813,5794] if filled incorrect as Nan ,the duration is misplaced in rating column"
   ]
  },
  {
   "cell_type": "code",
   "execution_count": 548,
   "id": "8b3a2f41-90f8-42e6-b70e-2aca58d2e0cb",
   "metadata": {},
   "outputs": [
    {
     "data": {
      "text/html": [
       "<div>\n",
       "<style scoped>\n",
       "    .dataframe tbody tr th:only-of-type {\n",
       "        vertical-align: middle;\n",
       "    }\n",
       "\n",
       "    .dataframe tbody tr th {\n",
       "        vertical-align: top;\n",
       "    }\n",
       "\n",
       "    .dataframe thead th {\n",
       "        text-align: right;\n",
       "    }\n",
       "</style>\n",
       "<table border=\"1\" class=\"dataframe\">\n",
       "  <thead>\n",
       "    <tr style=\"text-align: right;\">\n",
       "      <th></th>\n",
       "      <th>show_id</th>\n",
       "      <th>type</th>\n",
       "      <th>title</th>\n",
       "      <th>director</th>\n",
       "      <th>cast</th>\n",
       "      <th>country</th>\n",
       "      <th>date_added</th>\n",
       "      <th>release_year</th>\n",
       "      <th>rating</th>\n",
       "      <th>duration</th>\n",
       "      <th>...</th>\n",
       "      <th>Unnamed: 16</th>\n",
       "      <th>Unnamed: 17</th>\n",
       "      <th>Unnamed: 18</th>\n",
       "      <th>Unnamed: 19</th>\n",
       "      <th>Unnamed: 20</th>\n",
       "      <th>Unnamed: 21</th>\n",
       "      <th>Unnamed: 22</th>\n",
       "      <th>Unnamed: 23</th>\n",
       "      <th>Unnamed: 24</th>\n",
       "      <th>Unnamed: 25</th>\n",
       "    </tr>\n",
       "  </thead>\n",
       "  <tbody>\n",
       "    <tr>\n",
       "      <th>5541</th>\n",
       "      <td>s5542</td>\n",
       "      <td>Movie</td>\n",
       "      <td>Louis C.K. 2017</td>\n",
       "      <td>Louis C.K.</td>\n",
       "      <td>Louis C.K.</td>\n",
       "      <td>United States</td>\n",
       "      <td>April 4, 2017</td>\n",
       "      <td>2017</td>\n",
       "      <td>74 min</td>\n",
       "      <td>NaN</td>\n",
       "      <td>...</td>\n",
       "      <td>NaN</td>\n",
       "      <td>NaN</td>\n",
       "      <td>NaN</td>\n",
       "      <td>NaN</td>\n",
       "      <td>NaN</td>\n",
       "      <td>NaN</td>\n",
       "      <td>NaN</td>\n",
       "      <td>NaN</td>\n",
       "      <td>NaN</td>\n",
       "      <td>NaN</td>\n",
       "    </tr>\n",
       "  </tbody>\n",
       "</table>\n",
       "<p>1 rows × 26 columns</p>\n",
       "</div>"
      ],
      "text/plain": [
       "     show_id   type            title    director        cast        country  \\\n",
       "5541   s5542  Movie  Louis C.K. 2017  Louis C.K.  Louis C.K.  United States   \n",
       "\n",
       "         date_added  release_year  rating duration  ... Unnamed: 16  \\\n",
       "5541  April 4, 2017          2017  74 min      NaN  ...         NaN   \n",
       "\n",
       "     Unnamed: 17  Unnamed: 18  Unnamed: 19  Unnamed: 20  Unnamed: 21  \\\n",
       "5541         NaN          NaN          NaN          NaN          NaN   \n",
       "\n",
       "      Unnamed: 22  Unnamed: 23  Unnamed: 24  Unnamed: 25  \n",
       "5541          NaN          NaN          NaN          NaN  \n",
       "\n",
       "[1 rows x 26 columns]"
      ]
     },
     "execution_count": 548,
     "metadata": {},
     "output_type": "execute_result"
    }
   ],
   "source": [
    "netflix.iloc[[5541]]"
   ]
  },
  {
   "cell_type": "code",
   "execution_count": 481,
   "id": "bca92b6f-5cb9-4e19-ad45-a3678a60ffc8",
   "metadata": {},
   "outputs": [
    {
     "data": {
      "text/plain": [
       "[1, 2, 3, 4, 5, 6, 7, 8, 9, 10, 11, 12, 13, 15, 17, nan]"
      ]
     },
     "execution_count": 481,
     "metadata": {},
     "output_type": "execute_result"
    }
   ],
   "source": [
    "def extract_season_number(duration):\n",
    "    if pd.isna(duration):\n",
    "        return np.nan\n",
    "    return int(duration.split()[0])\n",
    "\n",
    "season_numbers = [extract_season_number(duration) for duration in unique_durations_list]\n",
    "season_numbers.sort()\n",
    "season_numbers"
   ]
  },
  {
   "cell_type": "code",
   "execution_count": 602,
   "id": "01f02058-5fd2-4c08-b3e2-27c812247b5f",
   "metadata": {},
   "outputs": [
    {
     "data": {
      "text/plain": [
       "0          90 min\n",
       "1       2 seasons\n",
       "2       1 seasons\n",
       "3       1 seasons\n",
       "4       2 seasons\n",
       "          ...    \n",
       "8804       88 min\n",
       "8805       88 min\n",
       "8806      111 min\n",
       "8807    1 seasons\n",
       "8808      110 min\n",
       "Name: duration, Length: 8809, dtype: object"
      ]
     },
     "execution_count": 602,
     "metadata": {},
     "output_type": "execute_result"
    }
   ],
   "source": [
    "(\n",
    "    netflix\n",
    "    .duration\n",
    "    .str.replace(\"Seasons?\",\"seasons\",regex=True)\n",
    ")"
   ]
  },
  {
   "cell_type": "markdown",
   "id": "059a3a87-39a6-4d59-a88e-30122fa3e871",
   "metadata": {},
   "source": [
    "# Cleaning"
   ]
  },
  {
   "cell_type": "code",
   "execution_count": 603,
   "id": "6149bd57-d1ab-4327-a9d8-23e7b25017c5",
   "metadata": {},
   "outputs": [],
   "source": [
    "def cleaned_data(df):\n",
    "\n",
    "    return (\n",
    "        df\n",
    "        .assign(**{\n",
    "            col: df[col].str.strip()\n",
    "            for col in df.select_dtypes(include='O')\n",
    "        })\n",
    "        .assign(\n",
    "            show_id=lambda df_:(\n",
    "                df_\n",
    "                .show_id\n",
    "                .str.replace(\"s\",\"\")\n",
    "                .unique()\n",
    "            ),\n",
    "            date_added=lambda df_ : pd.to_datetime(netflix['date_added'].str.strip(),dayfirst=True),\n",
    "            duration=lambda df_: (\n",
    "                df_\n",
    "                .duration\n",
    "                .str.replace(\"Seasons?\",\"seasons\",regex=True)\n",
    "            )\n",
    "        )\n",
    "        .iloc[:,:12]\n",
    "        .drop(columns='rating')\n",
    "        .drop(columns=\"show_id\")\n",
    "    )"
   ]
  },
  {
   "cell_type": "code",
   "execution_count": 604,
   "id": "594cb159-4545-4133-8577-f4f090b19463",
   "metadata": {},
   "outputs": [
    {
     "data": {
      "text/html": [
       "<div>\n",
       "<style scoped>\n",
       "    .dataframe tbody tr th:only-of-type {\n",
       "        vertical-align: middle;\n",
       "    }\n",
       "\n",
       "    .dataframe tbody tr th {\n",
       "        vertical-align: top;\n",
       "    }\n",
       "\n",
       "    .dataframe thead th {\n",
       "        text-align: right;\n",
       "    }\n",
       "</style>\n",
       "<table border=\"1\" class=\"dataframe\">\n",
       "  <thead>\n",
       "    <tr style=\"text-align: right;\">\n",
       "      <th></th>\n",
       "      <th>type</th>\n",
       "      <th>title</th>\n",
       "      <th>director</th>\n",
       "      <th>cast</th>\n",
       "      <th>country</th>\n",
       "      <th>date_added</th>\n",
       "      <th>release_year</th>\n",
       "      <th>duration</th>\n",
       "      <th>listed_in</th>\n",
       "      <th>description</th>\n",
       "    </tr>\n",
       "  </thead>\n",
       "  <tbody>\n",
       "    <tr>\n",
       "      <th>0</th>\n",
       "      <td>Movie</td>\n",
       "      <td>Dick Johnson Is Dead</td>\n",
       "      <td>Kirsten Johnson</td>\n",
       "      <td>NaN</td>\n",
       "      <td>United States</td>\n",
       "      <td>2021-09-25</td>\n",
       "      <td>2020</td>\n",
       "      <td>90 min</td>\n",
       "      <td>Documentaries</td>\n",
       "      <td>As her father nears the end of his life, filmm...</td>\n",
       "    </tr>\n",
       "    <tr>\n",
       "      <th>1</th>\n",
       "      <td>TV Show</td>\n",
       "      <td>Blood &amp; Water</td>\n",
       "      <td>NaN</td>\n",
       "      <td>Ama Qamata, Khosi Ngema, Gail Mabalane, Thaban...</td>\n",
       "      <td>South Africa</td>\n",
       "      <td>2021-09-24</td>\n",
       "      <td>2021</td>\n",
       "      <td>2 seasons</td>\n",
       "      <td>International TV Shows, TV Dramas, TV Mysteries</td>\n",
       "      <td>After crossing paths at a party, a Cape Town t...</td>\n",
       "    </tr>\n",
       "    <tr>\n",
       "      <th>2</th>\n",
       "      <td>TV Show</td>\n",
       "      <td>Ganglands</td>\n",
       "      <td>Julien Leclercq</td>\n",
       "      <td>Sami Bouajila, Tracy Gotoas, Samuel Jouy, Nabi...</td>\n",
       "      <td>NaN</td>\n",
       "      <td>2021-09-24</td>\n",
       "      <td>2021</td>\n",
       "      <td>1 seasons</td>\n",
       "      <td>Crime TV Shows, International TV Shows, TV Act...</td>\n",
       "      <td>To protect his family from a powerful drug lor...</td>\n",
       "    </tr>\n",
       "    <tr>\n",
       "      <th>3</th>\n",
       "      <td>TV Show</td>\n",
       "      <td>Jailbirds New Orleans</td>\n",
       "      <td>NaN</td>\n",
       "      <td>NaN</td>\n",
       "      <td>NaN</td>\n",
       "      <td>2021-09-24</td>\n",
       "      <td>2021</td>\n",
       "      <td>1 seasons</td>\n",
       "      <td>Docuseries, Reality TV</td>\n",
       "      <td>Feuds, flirtations and toilet talk go down amo...</td>\n",
       "    </tr>\n",
       "    <tr>\n",
       "      <th>4</th>\n",
       "      <td>TV Show</td>\n",
       "      <td>Kota Factory</td>\n",
       "      <td>NaN</td>\n",
       "      <td>Mayur More, Jitendra Kumar, Ranjan Raj, Alam K...</td>\n",
       "      <td>India</td>\n",
       "      <td>2021-09-24</td>\n",
       "      <td>2021</td>\n",
       "      <td>2 seasons</td>\n",
       "      <td>International TV Shows, Romantic TV Shows, TV ...</td>\n",
       "      <td>In a city of coaching centers known to train I...</td>\n",
       "    </tr>\n",
       "    <tr>\n",
       "      <th>...</th>\n",
       "      <td>...</td>\n",
       "      <td>...</td>\n",
       "      <td>...</td>\n",
       "      <td>...</td>\n",
       "      <td>...</td>\n",
       "      <td>...</td>\n",
       "      <td>...</td>\n",
       "      <td>...</td>\n",
       "      <td>...</td>\n",
       "      <td>...</td>\n",
       "    </tr>\n",
       "    <tr>\n",
       "      <th>8804</th>\n",
       "      <td>Movie</td>\n",
       "      <td>Zombieland</td>\n",
       "      <td>Ruben Fleischer</td>\n",
       "      <td>Jesse Eisenberg, Woody Harrelson, Emma Stone, ...</td>\n",
       "      <td>United States</td>\n",
       "      <td>2019-11-01</td>\n",
       "      <td>2009</td>\n",
       "      <td>88 min</td>\n",
       "      <td>Comedies, Horror Movies</td>\n",
       "      <td>Looking to survive in a world taken over by zo...</td>\n",
       "    </tr>\n",
       "    <tr>\n",
       "      <th>8805</th>\n",
       "      <td>Movie</td>\n",
       "      <td>Zoom</td>\n",
       "      <td>Peter Hewitt</td>\n",
       "      <td>Tim Allen, Courteney Cox, Chevy Chase, Kate Ma...</td>\n",
       "      <td>United States</td>\n",
       "      <td>2020-01-11</td>\n",
       "      <td>2006</td>\n",
       "      <td>88 min</td>\n",
       "      <td>Children &amp; Family Movies, Comedies</td>\n",
       "      <td>Dragged from civilian life, a former superhero...</td>\n",
       "    </tr>\n",
       "    <tr>\n",
       "      <th>8806</th>\n",
       "      <td>Movie</td>\n",
       "      <td>Zubaan</td>\n",
       "      <td>Mozez Singh</td>\n",
       "      <td>Vicky Kaushal, Sarah-Jane Dias, Raaghav Chanan...</td>\n",
       "      <td>India</td>\n",
       "      <td>2019-03-02</td>\n",
       "      <td>2015</td>\n",
       "      <td>111 min</td>\n",
       "      <td>Dramas, International Movies, Music &amp; Musicals</td>\n",
       "      <td>A scrappy but poor boy worms his way into a ty...</td>\n",
       "    </tr>\n",
       "    <tr>\n",
       "      <th>8807</th>\n",
       "      <td>TV Show</td>\n",
       "      <td>Parasyte: The Grey</td>\n",
       "      <td>Yeon Sang-ho</td>\n",
       "      <td>Shin Hyun-been, Jeon Yeo-bin, Goo Kyo-hwan</td>\n",
       "      <td>South Korea</td>\n",
       "      <td>2024-04-05</td>\n",
       "      <td>2024</td>\n",
       "      <td>1 seasons</td>\n",
       "      <td>Sci-fi, Horror, Action</td>\n",
       "      <td>A new breed of parasitic aliens arrive on Eart...</td>\n",
       "    </tr>\n",
       "    <tr>\n",
       "      <th>8808</th>\n",
       "      <td>Movie</td>\n",
       "      <td>Serena</td>\n",
       "      <td>Susanne Bier</td>\n",
       "      <td>Bradley Cooper, Jennifer Lawrence, Toby Jones,...</td>\n",
       "      <td>United States</td>\n",
       "      <td>2024-04-05</td>\n",
       "      <td>2014</td>\n",
       "      <td>110 min</td>\n",
       "      <td>Drama, Romance, Thriller</td>\n",
       "      <td>In the 1920s, a newly married couple attempt t...</td>\n",
       "    </tr>\n",
       "  </tbody>\n",
       "</table>\n",
       "<p>8809 rows × 10 columns</p>\n",
       "</div>"
      ],
      "text/plain": [
       "         type                  title         director  \\\n",
       "0       Movie   Dick Johnson Is Dead  Kirsten Johnson   \n",
       "1     TV Show          Blood & Water              NaN   \n",
       "2     TV Show              Ganglands  Julien Leclercq   \n",
       "3     TV Show  Jailbirds New Orleans              NaN   \n",
       "4     TV Show           Kota Factory              NaN   \n",
       "...       ...                    ...              ...   \n",
       "8804    Movie             Zombieland  Ruben Fleischer   \n",
       "8805    Movie                   Zoom     Peter Hewitt   \n",
       "8806    Movie                 Zubaan      Mozez Singh   \n",
       "8807  TV Show     Parasyte: The Grey     Yeon Sang-ho   \n",
       "8808    Movie                 Serena     Susanne Bier   \n",
       "\n",
       "                                                   cast        country  \\\n",
       "0                                                   NaN  United States   \n",
       "1     Ama Qamata, Khosi Ngema, Gail Mabalane, Thaban...   South Africa   \n",
       "2     Sami Bouajila, Tracy Gotoas, Samuel Jouy, Nabi...            NaN   \n",
       "3                                                   NaN            NaN   \n",
       "4     Mayur More, Jitendra Kumar, Ranjan Raj, Alam K...          India   \n",
       "...                                                 ...            ...   \n",
       "8804  Jesse Eisenberg, Woody Harrelson, Emma Stone, ...  United States   \n",
       "8805  Tim Allen, Courteney Cox, Chevy Chase, Kate Ma...  United States   \n",
       "8806  Vicky Kaushal, Sarah-Jane Dias, Raaghav Chanan...          India   \n",
       "8807         Shin Hyun-been, Jeon Yeo-bin, Goo Kyo-hwan    South Korea   \n",
       "8808  Bradley Cooper, Jennifer Lawrence, Toby Jones,...  United States   \n",
       "\n",
       "     date_added  release_year   duration  \\\n",
       "0    2021-09-25          2020     90 min   \n",
       "1    2021-09-24          2021  2 seasons   \n",
       "2    2021-09-24          2021  1 seasons   \n",
       "3    2021-09-24          2021  1 seasons   \n",
       "4    2021-09-24          2021  2 seasons   \n",
       "...         ...           ...        ...   \n",
       "8804 2019-11-01          2009     88 min   \n",
       "8805 2020-01-11          2006     88 min   \n",
       "8806 2019-03-02          2015    111 min   \n",
       "8807 2024-04-05          2024  1 seasons   \n",
       "8808 2024-04-05          2014    110 min   \n",
       "\n",
       "                                              listed_in  \\\n",
       "0                                         Documentaries   \n",
       "1       International TV Shows, TV Dramas, TV Mysteries   \n",
       "2     Crime TV Shows, International TV Shows, TV Act...   \n",
       "3                                Docuseries, Reality TV   \n",
       "4     International TV Shows, Romantic TV Shows, TV ...   \n",
       "...                                                 ...   \n",
       "8804                            Comedies, Horror Movies   \n",
       "8805                 Children & Family Movies, Comedies   \n",
       "8806     Dramas, International Movies, Music & Musicals   \n",
       "8807                             Sci-fi, Horror, Action   \n",
       "8808                           Drama, Romance, Thriller   \n",
       "\n",
       "                                            description  \n",
       "0     As her father nears the end of his life, filmm...  \n",
       "1     After crossing paths at a party, a Cape Town t...  \n",
       "2     To protect his family from a powerful drug lor...  \n",
       "3     Feuds, flirtations and toilet talk go down amo...  \n",
       "4     In a city of coaching centers known to train I...  \n",
       "...                                                 ...  \n",
       "8804  Looking to survive in a world taken over by zo...  \n",
       "8805  Dragged from civilian life, a former superhero...  \n",
       "8806  A scrappy but poor boy worms his way into a ty...  \n",
       "8807  A new breed of parasitic aliens arrive on Eart...  \n",
       "8808  In the 1920s, a newly married couple attempt t...  \n",
       "\n",
       "[8809 rows x 10 columns]"
      ]
     },
     "execution_count": 604,
     "metadata": {},
     "output_type": "execute_result"
    }
   ],
   "source": [
    "netflix_cleaned=cleaned_data(netflix)#.date_added\n",
    "netflix_cleaned"
   ]
  },
  {
   "cell_type": "code",
   "execution_count": 607,
   "id": "e4ac22e4-5b8e-49c2-9b38-76f7a2f424ac",
   "metadata": {},
   "outputs": [
    {
     "data": {
      "text/plain": [
       "(8809, 10)"
      ]
     },
     "execution_count": 607,
     "metadata": {},
     "output_type": "execute_result"
    }
   ],
   "source": [
    "netflix_cleaned.shape"
   ]
  }
 ],
 "metadata": {
  "kernelspec": {
   "display_name": "Python 3 (ipykernel)",
   "language": "python",
   "name": "python3"
  },
  "language_info": {
   "codemirror_mode": {
    "name": "ipython",
    "version": 3
   },
   "file_extension": ".py",
   "mimetype": "text/x-python",
   "name": "python",
   "nbconvert_exporter": "python",
   "pygments_lexer": "ipython3",
   "version": "3.11.4"
  }
 },
 "nbformat": 4,
 "nbformat_minor": 5
}
